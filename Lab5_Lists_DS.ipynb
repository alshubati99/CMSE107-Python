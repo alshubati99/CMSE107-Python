{
 "cells": [
  {
   "cell_type": "code",
   "execution_count": 1,
   "metadata": {},
   "outputs": [
    {
     "name": "stdout",
     "output_type": "stream",
     "text": [
      "hello khawlah\n"
     ]
    }
   ],
   "source": [
    "# Simple greeting function:\n",
    "def greeting(name):\n",
    "    print(\"hello %s\" %(name))\n",
    "\n",
    "my_name = input(\"enter name: \")\n",
    "greeting(my_name)"
   ]
  },
  {
   "cell_type": "code",
   "execution_count": 6,
   "metadata": {},
   "outputs": [
    {
     "name": "stdout",
     "output_type": "stream",
     "text": [
      "22 is not prime\n"
     ]
    }
   ],
   "source": [
    "# method to check for primes:\n",
    "\n",
    "def is_prime(num):\n",
    "    for n in range(2,num):\n",
    "        if num%n==0:\n",
    "            print(num, 'is not prime')\n",
    "            break\n",
    "        else:\n",
    "            print(num, 'is prime')\n",
    "\n",
    "is_prime(22)\n"
   ]
  },
  {
   "cell_type": "code",
   "execution_count": 7,
   "metadata": {},
   "outputs": [
    {
     "data": {
      "text/plain": [
       "True"
      ]
     },
     "execution_count": 7,
     "metadata": {},
     "output_type": "execute_result"
    }
   ],
   "source": [
    "# better method to check \n",
    "# for prime:\n",
    "import math\n",
    "def is_prime(num):\n",
    "    if num%2==0 and num>2:\n",
    "        return False\n",
    "    for i in range(3, int(math.sqrt(num))+1,2):\n",
    "        if num %i ==0:\n",
    "            return False\n",
    "    return True\n",
    "\n",
    "is_prime(3)"
   ]
  }
 ],
 "metadata": {
  "kernelspec": {
   "display_name": "Python 3",
   "language": "python",
   "name": "python3"
  },
  "language_info": {
   "codemirror_mode": {
    "name": "ipython",
    "version": 3
   },
   "file_extension": ".py",
   "mimetype": "text/x-python",
   "name": "python",
   "nbconvert_exporter": "python",
   "pygments_lexer": "ipython3",
   "version": "3.11.1"
  },
  "orig_nbformat": 4
 },
 "nbformat": 4,
 "nbformat_minor": 2
}
