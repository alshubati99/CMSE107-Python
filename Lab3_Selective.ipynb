{
 "cells": [
  {
   "cell_type": "code",
   "execution_count": 1,
   "metadata": {},
   "outputs": [
    {
     "name": "stdout",
     "output_type": "stream",
     "text": [
      "3 is a positive number.\n",
      "This is always printed.\n",
      "This is also always printed.\n"
     ]
    }
   ],
   "source": [
    "# Positive or negitive number\n",
    "num = 3\n",
    "if num > 0:\n",
    " print(num, \"is a positive number.\")\n",
    "print(\"This is always printed.\")\n",
    "num = -1\n",
    "if num > 0:\n",
    " print(num, \"is a positive number.\")\n",
    "print(\"This is also always printed.\")\n"
   ]
  },
  {
   "cell_type": "code",
   "execution_count": 6,
   "metadata": {},
   "outputs": [
    {
     "name": "stdout",
     "output_type": "stream",
     "text": [
      "The value of x after swapping: 4\n",
      "The value of y after swapping: 3\n",
      "The value of x after swapping: 3\n",
      "The value of y after swapping: 5\n"
     ]
    }
   ],
   "source": [
    "# To take input from the user\n",
    "x = input('Enter value of x: ')\n",
    "y = input('Enter value of y: ')\n",
    "# create a temporary variable and swap the values\n",
    "temp = x\n",
    "x = y\n",
    "y = temp\n",
    "print('The value of x after swapping:',x)\n",
    "print('The value of y after swapping:',y)\n",
    "\n",
    "\"\"\"Based on the code given above, re-write it to perform swapping only when x>y, otherwise do \n",
    "nothing\"\"\"\n",
    "x = 3\n",
    "y = 5\n",
    "# create a temporary variable and swap the values\n",
    "if x>y:\n",
    "    temp = x\n",
    "    x = y\n",
    "    y = temp\n",
    "print('The value of x after swapping:',x)\n",
    "print('The value of y after swapping:',y)"
   ]
  },
  {
   "cell_type": "code",
   "execution_count": 8,
   "metadata": {},
   "outputs": [
    {
     "name": "stdout",
     "output_type": "stream",
     "text": [
      "Positive number\n",
      "Zero\n"
     ]
    }
   ],
   "source": [
    "# program checks the inputted number is \n",
    "# positive or negative or zero and \n",
    "# displays an appropriate message\n",
    "num = float(input(\"Enter a number: \"))\n",
    "if num >= 0:\n",
    " if num == 0:\n",
    "    print(\"Zero\")\n",
    " else:\n",
    "    print(\"Positive number\")\n",
    "else:\n",
    "    print(\"Negative number\")\n",
    "\n",
    "\"\"\" Re-write this code using \n",
    "if...elif...else structure. \"\"\"\n",
    "num = 0\n",
    "if num > 0:\n",
    "    print(\"Positive number\")\n",
    "elif num == 0:\n",
    "    print(\"Zero\") \n",
    "else:\n",
    "    print(\"Negative number\")\n"
   ]
  },
  {
   "cell_type": "code",
   "execution_count": 10,
   "metadata": {},
   "outputs": [
    {
     "name": "stdout",
     "output_type": "stream",
     "text": [
      "6\n"
     ]
    }
   ],
   "source": [
    "# write a python program to execute the function: \n",
    "x = 2\n",
    "y = 3\n",
    "if x>=0 and y>=0:\n",
    "    print(x*y)\n",
    "elif x>=0 and y<0:\n",
    "    print(x+y)\n",
    "elif x<0 and y>=0:\n",
    "    print(y-x)\n",
    "else:\n",
    "    print(\"hi\")\n"
   ]
  },
  {
   "cell_type": "code",
   "execution_count": 11,
   "metadata": {},
   "outputs": [
    {
     "name": "stdout",
     "output_type": "stream",
     "text": [
      "6\n"
     ]
    }
   ],
   "source": [
    "\"\"\"Write a Python code that reads two integer numbers and one operator (+, -, *, /), and then \n",
    "perform the required operation.\"\"\"\n",
    "\n",
    "num1 = int(input(\"enter first number: \"))\n",
    "num2 = int(input(\"enter second number: \"))\n",
    "operator = input(\"enter operator: \")\n",
    "if operator == '*':\n",
    "    print(num1*num2)\n",
    "elif operator == '/':\n",
    "    print(num1/num2)\n",
    "elif operator == '-':\n",
    "    print(num1 - num2)\n",
    "elif operator == '+':\n",
    "    print(num1 + num2)\n",
    "else:\n",
    "    print(\"enter valid operator\")\n"
   ]
  }
 ],
 "metadata": {
  "kernelspec": {
   "display_name": "Python 3",
   "language": "python",
   "name": "python3"
  },
  "language_info": {
   "codemirror_mode": {
    "name": "ipython",
    "version": 3
   },
   "file_extension": ".py",
   "mimetype": "text/x-python",
   "name": "python",
   "nbconvert_exporter": "python",
   "pygments_lexer": "ipython3",
   "version": "3.11.1"
  },
  "orig_nbformat": 4
 },
 "nbformat": 4,
 "nbformat_minor": 2
}
