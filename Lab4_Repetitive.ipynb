{
 "cells": [
  {
   "cell_type": "code",
   "execution_count": 1,
   "metadata": {},
   "outputs": [
    {
     "name": "stdout",
     "output_type": "stream",
     "text": [
      "sum is 55\n"
     ]
    }
   ],
   "source": [
    "# Program to add numbers up to n:\n",
    "n = 10\n",
    "sum = 0\n",
    "i = 1\n",
    "while i <=n:\n",
    "    sum = sum +i\n",
    "    i +=1\n",
    "print(\"sum is\", sum)\n"
   ]
  },
  {
   "cell_type": "code",
   "execution_count": 4,
   "metadata": {},
   "outputs": [
    {
     "name": "stdout",
     "output_type": "stream",
     "text": [
      "sum is 30\n"
     ]
    }
   ],
   "source": [
    "# Program to add even numbers up to n:\n",
    "n = int(input(\"enter integer: \"))\n",
    "sum = 0\n",
    "i = 2\n",
    "while i<=n:\n",
    "        sum = sum +i\n",
    "        i +=2\n",
    "print(\"sum is\", sum)"
   ]
  },
  {
   "cell_type": "code",
   "execution_count": 5,
   "metadata": {},
   "outputs": [
    {
     "name": "stdout",
     "output_type": "stream",
     "text": [
      "     *\n",
      "    ***\n",
      "   *****\n",
      "  *******\n",
      " *********\n",
      "***********\n",
      " *********\n",
      "  *******\n",
      "   *****\n",
      "    ***\n",
      "     *\n"
     ]
    }
   ],
   "source": [
    "\n",
    "# Program to print a diamond shape with stars using iteration in Python:\n",
    "# Input the number of rows from the user\n",
    "rows = int(input(\"Enter the number of rows: \"))\n",
    "# Check if the number of rows is odd\n",
    "if rows % 2 == 0:\n",
    "    # If not, add one to make it odd\n",
    "    rows += 1\n",
    "# Calculate the number of spaces for the first row\n",
    "spaces = rows // 2\n",
    "\n",
    "# Loop through the first half of the rows\n",
    "for i in range(1, rows+1, 2):\n",
    "    # Print spaces before the stars\n",
    "    print(\" \" * spaces, end=\"\")\n",
    "    # Print stars\n",
    "    print(\"*\" * i)\n",
    "    # Decrease the number of spaces by one\n",
    "    spaces -= 1\n",
    "\n",
    "# Reset the number of spaces for the second half of the rows\n",
    "spaces = 1\n",
    "\n",
    "# Loop through the second half of the rows\n",
    "for i in range(rows-2, 0, -2):\n",
    "    # Print spaces before the stars\n",
    "    print(\" \" * spaces, end=\"\")\n",
    "    # Print stars\n",
    "    print(\"*\" * i)\n",
    "    # Increase the number of spaces by one\n",
    "    spaces += 1\n"
   ]
  }
 ],
 "metadata": {
  "kernelspec": {
   "display_name": "Python 3",
   "language": "python",
   "name": "python3"
  },
  "language_info": {
   "codemirror_mode": {
    "name": "ipython",
    "version": 3
   },
   "file_extension": ".py",
   "mimetype": "text/x-python",
   "name": "python",
   "nbconvert_exporter": "python",
   "pygments_lexer": "ipython3",
   "version": "3.11.1"
  },
  "orig_nbformat": 4
 },
 "nbformat": 4,
 "nbformat_minor": 2
}
