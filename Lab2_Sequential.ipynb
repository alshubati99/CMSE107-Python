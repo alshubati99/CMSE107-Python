{
 "cells": [
  {
   "attachments": {},
   "cell_type": "markdown",
   "metadata": {},
   "source": [
    "Sequential Code Structure in Python Programming"
   ]
  },
  {
   "cell_type": "code",
   "execution_count": 9,
   "metadata": {},
   "outputs": [
    {
     "name": "stdout",
     "output_type": "stream",
     "text": [
      "\n",
      " 1 2 4 8 16 32 64\n",
      "\n",
      " 1 | 2 | 4 | 8 | 16 | 32 | 64\n",
      "\n",
      " 1 \n",
      " 2 \n",
      " 4 \n",
      " 8 \n",
      " 16 \n",
      " 32 \n",
      " 64\n"
     ]
    }
   ],
   "source": [
    "\"\"\"\n",
    "Write a program to display the powers of 2 from 0 to 6 \n",
    "a) in same line \n",
    "b) in same line with separator.\n",
    "c) one per line\n",
    "\"\"\"\n",
    "# same line: \n",
    "print('\\n',2**0, 2**1,2**2, 2**3, 2**4, 2**5, 2**6)\n",
    "\n",
    "# same line with separator: \n",
    "print('\\n',2**0,'|', 2**1,'|', 2**2,'|', 2**3,'|',  2**4, '|',2**5,'|',  2**6)\n",
    "\n",
    "# one per line: \n",
    "print('\\n',2**0,'\\n',2**1,'\\n',2**2,'\\n',2**3,'\\n',  2**4,'\\n',2**5,'\\n',2**6)\n",
    "\n"
   ]
  },
  {
   "cell_type": "code",
   "execution_count": 12,
   "metadata": {},
   "outputs": [
    {
     "name": "stdout",
     "output_type": "stream",
     "text": [
      "2 to power of 4 is 16\n"
     ]
    }
   ],
   "source": [
    "\"\"\" \n",
    "Write a Pythong program to allow user to enter any integer value and displays the value of 2 raised to that power. \n",
    "Outcome should be:\n",
    "What is power of two? 3\n",
    "Two to power of 3 is 8\n",
    "\n",
    "\"\"\"\n",
    "num = int(input(\"what is the power of 2? \"))\n",
    "print(f'2 to power of {num} is {2**num}')"
   ]
  },
  {
   "cell_type": "code",
   "execution_count": 13,
   "metadata": {},
   "outputs": [
    {
     "name": "stdout",
     "output_type": "stream",
     "text": [
      "2 to power of 3 is 8\n"
     ]
    }
   ],
   "source": [
    "\"\"\" \n",
    "Write a python program that allows user to enter any integer base and exponent and displays the value of the base raised to that exponent. \n",
    "Outcome Should be: \n",
    "What is base? 3\n",
    "What is power of 3? 2\n",
    "3 to the power of 2 is 9\n",
    "\n",
    "\"\"\"\n",
    "base = int(input(\"what is the base?\"))\n",
    "exponent = int(input(f\"what is the power of {base}?\"))\n",
    "print(f\"{base} to power of {exponent} is {base**exponent}\")"
   ]
  },
  {
   "cell_type": "code",
   "execution_count": 15,
   "metadata": {},
   "outputs": [
    {
     "name": "stdout",
     "output_type": "stream",
     "text": [
      "the value is 15\n"
     ]
    }
   ],
   "source": [
    "\"\"\" \n",
    "Write a python program that allows user to enter a four-digit binary number and displays its value in base 10. Each binary digit should be entered one per line, starting with the leftmost digit as shown:\n",
    "Enger leftmost digit: 1\n",
    "Enger the next digit: 0\n",
    "Enger the next digit: 1\n",
    "Enger the next digit: 0\n",
    "The value is 11\n",
    "\"\"\"\n",
    "value = 0\n",
    "num1 = int(input(\"Enger leftmost digit:\"))\n",
    "value = value*2 + num1\n",
    "num2 = int(input(\"Enger the next digit:\"))\n",
    "value = value*2 + num2\n",
    "num3 = int(input(\"Enger the next digit:\"))\n",
    "value = value*2 + num3\n",
    "num4 = int(input(\"Enger the next digit:\"))\n",
    "value = value*2 + num4\n",
    "print(f\"the value is {value}\")\n"
   ]
  },
  {
   "cell_type": "code",
   "execution_count": 25,
   "metadata": {},
   "outputs": [
    {
     "name": "stdout",
     "output_type": "stream",
     "text": [
      "for 3 cities, there are 6 possible routes\n"
     ]
    }
   ],
   "source": [
    "\"\"\" \n",
    "Write a simple python program that prompts the user for a certain number of cities for the traveling Salesman problem (1.1.2 in textbook), and displays total number of possible routes that can be taken. \n",
    "Outcome should be:\n",
    "How many cities? 10\n",
    "For 10 cities, there are 3628800 possible routes \n",
    "# use factorial built-in function\n",
    "\"\"\"\n",
    "import math\n",
    "cities = int(input(\"How many cities?\"))\n",
    "routes = math.factorial(cities)\n",
    "print(f\"for {cities} cities, there are {routes} possible routes\")"
   ]
  },
  {
   "cell_type": "code",
   "execution_count": 17,
   "metadata": {},
   "outputs": [
    {
     "name": "stdout",
     "output_type": "stream",
     "text": [
      "4.400000\n"
     ]
    }
   ],
   "source": [
    "\"\"\" \n",
    "Write a python program that prompts the user for two floating-point values and displays the results of first number divided by the second with exacly six decimal places. \n",
    "Outcome should be like:\n",
    "Enter first floating-point value: 20.85\n",
    "Enter second floating-point value: 5.36\n",
    "3.889925\n",
    "\"\"\"\n",
    "num1 = float(input(\"enter first number:\"))\n",
    "num1 = float(input(\"enter second number:\"))\n",
    "print(f\"{num1/num2:.6f}\")"
   ]
  },
  {
   "cell_type": "code",
   "execution_count": 18,
   "metadata": {},
   "outputs": [
    {
     "name": "stdout",
     "output_type": "stream",
     "text": [
      "7.880000e+00\n"
     ]
    }
   ],
   "source": [
    "\"\"\" \n",
    "Write a python program that prompts the user for two floating-point values and displays the result of the first number divided by the second with exactly six decimal places displayed in scientific notation. \n",
    "Output should be like: \n",
    "Enter first floating-point value: 12.836\n",
    "Enter second floating-point value: 25.55\n",
    "5.023875e-01\n",
    "\n",
    "\"\"\"\n",
    "num1 = float(input(\"enter first number:\"))\n",
    "num1 = float(input(\"enter second number:\"))\n",
    "print(f\"{num1/num2:.6e}\")\n",
    "\n"
   ]
  },
  {
   "cell_type": "code",
   "execution_count": 19,
   "metadata": {},
   "outputs": [
    {
     "name": "stdout",
     "output_type": "stream",
     "text": [
      "the unicode for letter G is 71\n"
     ]
    }
   ],
   "source": [
    "\"\"\" \n",
    "Write a python program that prompts the user to enter an upper or lower case letter and displays the corresponding unicode encoding.\n",
    "Outcome should be like:\n",
    "Enter a lower or upper case letter: C\n",
    "The unicode value for the letter C is 67. \n",
    "\n",
    "\"\"\"\n",
    "letter = input(\"enter a letter:\")\n",
    "unicode = ord(letter)\n",
    "print(f\"the unicode for letter {letter} is {unicode}\")\n"
   ]
  },
  {
   "cell_type": "code",
   "execution_count": 21,
   "metadata": {},
   "outputs": [
    {
     "name": "stdout",
     "output_type": "stream",
     "text": [
      "5 + 6 =  11\n",
      "5 - 6 =  -1\n",
      "5 * 6 =  30\n",
      "5 / 6 =  0.8333333333333334\n",
      "5 // 6 =  0\n",
      "5 % 6 =  5\n",
      "5 ** 6 =  15625\n"
     ]
    }
   ],
   "source": [
    "\"\"\" \n",
    "Write a python program that allows the user to enter two integer and displays the results when each of the following arithmatic operators applied. Example: if user entered 7 and 5 Output would be:\n",
    "Enter first number: 7\n",
    "Enter second number: 5\n",
    "num1 + num2 = 12\n",
    "num1 - num2 = 2\n",
    "num1 * num2 = 35\n",
    "num1 / num2 = 1.40\n",
    "num1 // num2 = 1\n",
    "num1 % num2 = 2\n",
    "num1 ** num2 = 16.807\n",
    "\"\"\"\n",
    "num1 = int(input(\"enter first number: \"))\n",
    "num2 = int(input(\"enter second number: \"))\n",
    "print(f\"{num1} + {num2} = \", num1 + num2)\n",
    "print(f\"{num1} - {num2} = \", num1 - num2)\n",
    "print(f\"{num1} * {num2} = \", num1 * num2)\n",
    "print(f\"{num1} / {num2} = \", num1 / num2)\n",
    "print(f\"{num1} // {num2} = \", num1 // num2)\n",
    "print(f\"{num1} % {num2} = \", num1 % num2)\n",
    "print(f\"{num1} ** {num2} = \", num1 ** num2)"
   ]
  },
  {
   "cell_type": "code",
   "execution_count": 23,
   "metadata": {},
   "outputs": [
    {
     "name": "stdout",
     "output_type": "stream",
     "text": [
      "area = 6.0\n"
     ]
    }
   ],
   "source": [
    "\"\"\" \n",
    "Write a python program that accepts the base and height of a traingle and compute the area. \n",
    "Output should be like:\n",
    "Input base: 8\n",
    "Input height: 9 \n",
    "area = 36.00\n",
    "\n",
    "# area = 1/2 * base * height\n",
    "\"\"\"\n",
    "base = float(input(\"enter base:\"))\n",
    "height = float(input(\"enter height:\"))\n",
    "area = 1/2*base*height\n",
    "print(f\"area = {area}\")"
   ]
  }
 ],
 "metadata": {
  "kernelspec": {
   "display_name": "Python 3",
   "language": "python",
   "name": "python3"
  },
  "language_info": {
   "codemirror_mode": {
    "name": "ipython",
    "version": 3
   },
   "file_extension": ".py",
   "mimetype": "text/x-python",
   "name": "python",
   "nbconvert_exporter": "python",
   "pygments_lexer": "ipython3",
   "version": "3.11.1"
  },
  "orig_nbformat": 4
 },
 "nbformat": 4,
 "nbformat_minor": 2
}
